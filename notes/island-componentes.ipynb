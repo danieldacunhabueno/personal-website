{
 "cells": [
  {
   "cell_type": "markdown",
   "id": "9e7719d7",
   "metadata": {},
   "source": [
    "# Criar Pendência para Inclusão de Trechos de Código Angular\n",
    "\n",
    "Registrar uma pendência para adicionar exemplos de código Angular no notebook."
   ]
  },
  {
   "cell_type": "code",
   "execution_count": null,
   "id": "61d3a1a9",
   "metadata": {},
   "outputs": [],
   "source": [
    "# Criar pendência para inclusão de trechos de código Angular\n",
    "pendencias = []\n",
    "pendencias.append(\"Adicionar exemplos de código Angular no notebook\")\n",
    "print(\"Pendência registrada:\", pendencias[-1])"
   ]
  },
  {
   "cell_type": "markdown",
   "id": "fa150c4a",
   "metadata": {},
   "source": [
    "# Adicionar Exemplo de Código Angular\n",
    "\n",
    "Inserir um trecho de código Angular, como um componente básico, utilizando a sintaxe adequada."
   ]
  },
  {
   "cell_type": "code",
   "execution_count": null,
   "id": "a5497151",
   "metadata": {
    "vscode": {
     "languageId": "typescript"
    }
   },
   "outputs": [],
   "source": [
    "/* Exemplo de componente Angular básico */\n",
    "import { Component } from '@angular/core';\n",
    "\n",
    "@Component({\n",
    "  selector: 'app-exemplo',\n",
    "  template: `<h1>Olá, Angular!</h1>`,\n",
    "  styles: [`h1 { color: #1976d2; }`]\n",
    "})\n",
    "export class ExemploComponent { }"
   ]
  },
  {
   "cell_type": "markdown",
   "id": "74ec7e06",
   "metadata": {},
   "source": [
    "# Testar Renderização dos Trechos de Código\n",
    "\n",
    "Executar o notebook e verificar se os trechos de código Angular são exibidos corretamente."
   ]
  },
  {
   "cell_type": "code",
   "execution_count": null,
   "id": "1502b520",
   "metadata": {},
   "outputs": [],
   "source": [
    "# Verificar se o trecho de código Angular foi adicionado corretamente\n",
    "with open(\"exemplo-angular.ts\", \"w\", encoding=\"utf-8\") as f:\n",
    "    f.write(\"\"\"\n",
    "import { Component } from '@angular/core';\n",
    "\n",
    "@Component({\n",
    "  selector: 'app-exemplo',\n",
    "  template: `<h1>Olá, Angular!</h1>`,\n",
    "  styles: [`h1 { color: #1976d2; }`]\n",
    "})\n",
    "export class ExemploComponent { }\n",
    "\"\"\")\n",
    "print(\"Trecho de código Angular salvo em 'exemplo-angular.ts'.\")"
   ]
  },
  {
   "cell_type": "markdown",
   "id": "b48c7c72",
   "metadata": {},
   "source": [
    "# Verificar Integração com Visual Studio Code\n",
    "\n",
    "Testar a visualização e edição dos trechos de código Angular no Visual Studio Code para garantir compatibilidade."
   ]
  },
  {
   "cell_type": "markdown",
   "id": "8bccaaaf",
   "metadata": {},
   "source": [
    "- Abra o arquivo `exemplo-angular.ts` no Visual Studio Code.\n",
    "- Verifique se a sintaxe do Angular é destacada corretamente.\n",
    "- Edite o componente e salve as alterações para garantir que a integração está funcionando conforme esperado."
   ]
  }
 ],
 "metadata": {
  "language_info": {
   "name": "python"
  }
 },
 "nbformat": 4,
 "nbformat_minor": 5
}
